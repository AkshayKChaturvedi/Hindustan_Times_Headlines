{
 "cells": [
  {
   "cell_type": "markdown",
   "metadata": {},
   "source": [
    "Some instructions and general comments : \n",
    "\n",
    "* Please install selenium, beautifulsoup packages.\n",
    "\n",
    "\n",
    "* Download chromedriver from http://chromedriver.chromium.org/downloads, unzip it and put the path of its executable below in the second line of the first cell \"browser = webdriver.Chrome(path)\".\n",
    "\n",
    "\n",
    "* Executing the first cell will open a Chrome browser with hindustan times homepage, do not close it until the first cell has been executed.\n",
    "\n",
    "\n",
    "* When you open the csv file, you might encounter goofy characters like â€˜, to open the csv file in proper format please go through the instructions at http://64.132.240.34/kbbase/index.php?View=entry&EntryID=320, problem is only when viewing csv in excel, when reading(writting) from(to) csv, there is no issue as can be seen below. \n",
    "\n",
    "\n",
    "* One might notice that I have not written a general function through which a URL can be passed and headlines from a news website can be extracted, the reason is that different news websites have different html structure (not much is common between these webpages) thereby making it rather difficult to write a general function for different news websites. I looked at webpages of Hindustan Times, Times of India, BBC and CNN, html structure was very different for all of them. Feel free to correct me if I am wrong."
   ]
  },
  {
   "cell_type": "code",
   "execution_count": 363,
   "metadata": {},
   "outputs": [],
   "source": [
    "from selenium import webdriver\n",
    "\n",
    "# Don't forget to put the correct path of chromedriver executable here\n",
    "browser = webdriver.Chrome('C:/Users/Dell/Downloads/chromedriver.exe')\n",
    "\n",
    "browser.get(\"https://www.hindustantimes.com/\")\n",
    "\n",
    "innerHTML = browser.execute_script(\"return document.body.innerHTML\")"
   ]
  },
  {
   "cell_type": "code",
   "execution_count": 364,
   "metadata": {},
   "outputs": [],
   "source": [
    "from bs4 import BeautifulSoup\n",
    "import re\n",
    "\n",
    "soup_ini = BeautifulSoup(innerHTML)\n",
    "\n",
    "# Removing texts like 'Terms of Use', 'Disclaimer' etc. present at the bottom of the page\n",
    "soup_ini_str = re.sub('<li>.*?</li>', '', str(soup_ini))\n",
    "\n",
    "soup = BeautifulSoup(soup_ini_str)\n",
    "\n",
    "# Extract all the html <a> tags associated with hyperlinks\n",
    "titles = soup.find_all('a',  attrs={'href': re.compile(\"^https://\")})\n",
    "\n",
    "# Extract texts from the tags, contains all headlines (includes texts wrongly construed as headlines) \n",
    "headlines = [t.text.strip() for t in titles]"
   ]
  },
  {
   "cell_type": "code",
   "execution_count": 365,
   "metadata": {},
   "outputs": [],
   "source": [
    "titles_2 = soup.find_all('li',  attrs={'class' : 'column-head'})\n",
    "\n",
    "# Extract texts like 'Opinion', 'Cities', 'Sports' etc., these are categories near the bottom of the page\n",
    "headlines_2 = [t2.text.strip() for t2 in titles_2]"
   ]
  },
  {
   "cell_type": "code",
   "execution_count": 366,
   "metadata": {},
   "outputs": [],
   "source": [
    "titles_3 = soup.find_all('div',  attrs={'class' : re.compile(\"^(column|sign)\")})\n",
    "\n",
    "# From top itself page is divided into several categories like 'latest news', 'don't miss', 'must watch' etc., \n",
    "# these texts are extracted here\n",
    "headlines_3 = [t3.text.strip() for t3 in titles_3]"
   ]
  },
  {
   "cell_type": "code",
   "execution_count": 367,
   "metadata": {},
   "outputs": [
    {
     "name": "stdout",
     "output_type": "stream",
     "text": [
      "['', 'Delhi’s air quality recorded in ‘very poor’ category, authorities warn of deterioration', '‘In a sense, I am on the ticket,’ Donald Trump seeks voter support', 'Thousands protest in Aizawl seeking Mizoram CEO’s removal', 'How science can help us prepare for disasters', 'Meet the Indian women who look to win maiden ICC Women’s WT20 title', 'B.Tech student found dead in Delhi, police suspect case of ‘drug overdose’', 'Colour happy: Browns for all seasons and occasions', 'Diwali 2018: Quinoa chips, massage oil and more healthy gift ideas', '‘Real Diwali when misrule of NDA ends’: Chandrababu Naidu', 'ਕਰਨਾਟਕ ਜਿ਼ਮਨੀ ਚੋਣਾਂ: 4 ਸੀਟਾਂ `ਤੇ ਕਾਂਗਰਸ-ਜਨਤਾ ਦਲ ਤੇ 1 `ਤੇ ਭਾਜਪਾ ਅੱਗੇ', 'Bill Gates aims to save $233 billion by reinventing the toilet', 'Move over Batman, Bajrangi takes on supervillains', 'Delhi enveloped in smog as wind blows in smoke from farm fires', 'Ind vs WI: UP rename Lucknow stadium after Atal Bihari Vajpayee', 'Societies to conduct recruitment test for 5 new medical colleges', 'Chilling Adventures of Sabrina review: Netflix’s bewitching Halloween treat', '‘Tej Pratap hasn’t returned home after meeting Lalu Prasad over divorce’', 'India vs West Indies:\\u2009Rohit Sharma breaks multiple records, surpasses Virat Kohli', 'IBPS PO main admit card 2018 released, here’s how to download', 'Prithvi Theatre marks 40 yrs with a retelling of Prithviraj Kapoor’s plays', 'Ben Foakes shines on debut as England fight back in Sri Lanka Test', 'Warne’s Royal anecdotes: Handling Kaif’s ego, figuring Munaf’s age', 'Breathing Delhi’s polluted air akin to death sentence, say doctors', 'RBI a seat belt for govt, autonomy must be respected: Raghuram Rajan', 'Bypoll boost for Opposition unity as Congress-JD(S) win 4 of 5 seats', 'Dry Marathwada favours water-guzzling sugarcane', 'Give market access, buy more from us to reduce trade deficit, India tells China', 'IL&FS crisis: IndusInd Bank moves to NCLAT to recover Rs 25 crore interest', 'Delhi’s most-wanted gangster gives 16-member police team the slip', 'Faizabad district will now be called Ayodhya: Yogi Adityanath', '...read more', 'PV Sindhu enters second round of China Open', '‘Like death sentence’, say doctors as thick smog covers Delhi before Diwali', 'Google Chrome 71 browser update to crack down on sites with ‘abusive ads’', 'ਨੋਟਬੰਦੀ ਮਗਰੋਂ 15310.73 ਅਰਬ ਰੁਪਏ ਦੇ ਪੁਰਾਣੇ ਨੋਟਾਂ ਨੂੰ ਕੀਤਾ ਗਿਆ ਨਸ਼ਟ', 'Get the kink on with edible lingerie, and then eat it too', 'ਸੁਖਬੀਰ ਬਾਦਲ ਦੱਸੇ ਕਿ ਡੇਰਾ ਮੁਖੀ ਨੂੰ ਮੁਆਫੀ ਕਿਵੇਂ ਮਿਲੀ: ਨਵਜੋਤ ਸਿੱਧੂ', 'Iconic cartoon characters to keep your kids entertained this weekend!', 'Drake calls Athiya ‘My Shetty’ and a goddess on her birthday', 'Shy and intelligent: IIT professors remember Google CEO Sundar Pichai', 'Electrical vehicles could help reduce the toxins we breathe', 'India news in pictures -- a roundup of today’s top news across the country from Congress and Janata Dal Secular scoring a 4:1 win over the BJP in crucial...', 'Xiaomi Redmi Note 6 Pro launched: Price, specifications', 'Why girls at Deoria’s shelter home dreaded the weekends', 'Calls to allies, team to execute plan:\\u2009How NDA won Rajya Sabha battle', 'Arihant is a key step towards a nuclear triad', 'Disha Patani sets the Diwali mood with a bold photo shoot. See pic', 'How to make your smartphone’s battery last longer', 'Cracker crackdown on Delhi’s cleanest November day', 'India: Today’s news in pictures', 'China city curbs dog walking during daytime, bans them in parks, malls', 'Every Marvel fan will weep at this viral Avengers 4 ending proposed by fan', 'From Illahabas to Allahabad to Prayagraj - who cares and why', 'Benedict Cumberbatch reveals the one regret he has about Infinity War', 'Congress should lead the grand alliance against BJP: HD Kumaraswamy', 'Mehul Choksi’s associate Deepak Kulkarni arrested by ED in Kolkata', 'India vs WI: Numbers reveal Karthik thrives under Rohit’s captaincy', 'In Anitha Kumaraswamy’s victory, Congress finds reasons to be alarmed', 'Photos: Between meals and massages, the cushy lives of retired army dogs', 'I-League: Real Kashmir held to goalless draw by Churchill Brothers', '62 Maoists surrender in Chhattisgarh, Rajnath terms it ‘huge achievement’', 'Priyanka, Parineeti, Isha Ambani shine at epic bachelorette. See pics', '5 calorie-burning tips to lose weight fast without diet or exercise', 'Kapoor family is selling the iconic RK Studios, Rishi Kapoor confirms', 'Celebs come together to celebrate 40 years of Prithvi Theatre', '2,000-year-old ‘liquor’ discovered from ancient tomb in China', 'Baazaar movie review: Saif stands tall, but this film’s stock tanks', 'Samsung to reveal some features of foldable phone this week', 'BO prediction: Thugs of Hindostan could make Rs 100 crore in 3 days', 'Travel from South Mumbai to Navi Mumbai in hovercraft  from Feb next year', 'RBI declines to reveal how much destruction of banned notes cost: RTI', 'Photos: Delhi’s air relents a notch from a ‘severe’ Monday', 'Sack minister who ordered kill on tigress Avni, Maneka Gandhi to Fadnavis', 'Xiaomi Redmi Note 6 Pro vs Note 5 Pro: Here’s what’s new', 'Halloween review: I’ll haunt you in your sleep, don’t watch it alone', 'Nick Jonas could marry Priyanka in a designer sherwani. Here are our picks', 'China unveils new ‘Heavenly Palace’ space station as ISS days numbered', 'Delhi’s Signature Bridge, twice the size of Qutub Minar, opens for public', 'Kohli & Co: Swagger is no substitute for success', 'Versova creek in Mumbai has most mangrove species', 'India vs West Indies T20: UP renames Lucknow stadium after Vajpayee', 'Pakistan-China luxury bus service launched from Lahore to Kashgar', 'Shweta Tiwari is shocked people questioned the state of her marriage', 'Building long-term trust between  India and Japan', 'Gavaskar, Manjrekar escape serious accident at Lucknow’s Ekana Stadium', 'Photos: Pakistani porters, the unsung masters of the nation’s peaks', 'Rohit Sharma becomes first player to hit 4 T20 international centuries', 'Sarkar review: Vijay returns to solve Tamil Nadu’s problems but can’t', 'Indian students bag US award for developing innovative app to check air quality index levels', 'David Headley, from video store owner to architect of 26/11 Mumbai attacks', 'India vs West Indies, 2nd T20I: Rohit, bowlers shine as hosts clinch series', 'CNG ਕਾਰਾਂ ਦੀ ਵਿਕਰੀ ’ਚ ਰਿਕਾਰਡ ਵਾਧਾ', 'Super 30 founder Anand Kumar to be honoured with education award in Dubai on November 8', 'Sign In']\n"
     ]
    }
   ],
   "source": [
    "titles_4 = soup.find_all('a',  attrs={'class' : re.compile(\"^(cta-link|trc_|item-)\")})\n",
    "\n",
    "# Many articles in categories described above have a sub-category or another category associated with them, these categories are \n",
    "# extracted here, with these categories advertisements like \n",
    "# 'Indians born before 1967 are now eligible to test hearing aidsHearing Aid Trial' are also extracted here\n",
    "headlines_4 = [t4.text.strip() for t4 in titles_4]\n",
    "\n",
    "# combine all the texts wrongly construed as headlines in a single list\n",
    "headlines_to_remove = set(headlines_2 + headlines_3 + headlines_4)\n",
    "\n",
    "# removing texts wrongly construed as headlines from the list of all texts, thereby getting list of mostly correct headlines\n",
    "better_hl = list(set(headlines) - set(headlines_to_remove))\n",
    "\n",
    "print(better_hl)"
   ]
  },
  {
   "cell_type": "code",
   "execution_count": 472,
   "metadata": {},
   "outputs": [
    {
     "data": {
      "text/plain": [
       "['Delhi’s air quality recorded in ‘very poor’ category, authorities warn of deterioration',\n",
       " '‘In a sense, I am on the ticket,’ Donald Trump seeks voter support',\n",
       " 'Thousands protest in Aizawl seeking Mizoram CEO’s removal',\n",
       " 'How science can help us prepare for disasters',\n",
       " 'Meet the Indian women who look to win maiden ICC Women’s WT20 title',\n",
       " 'B.Tech student found dead in Delhi, police suspect case of ‘drug overdose’',\n",
       " 'Colour happy: Browns for all seasons and occasions',\n",
       " 'Diwali 2018: Quinoa chips, massage oil and more healthy gift ideas',\n",
       " '‘Real Diwali when misrule of NDA ends’: Chandrababu Naidu',\n",
       " 'ਕਰਨਾਟਕ ਜਿ਼ਮਨੀ ਚੋਣਾਂ: 4 ਸੀਟਾਂ `ਤੇ ਕਾਂਗਰਸ-ਜਨਤਾ ਦਲ ਤੇ 1 `ਤੇ ਭਾਜਪਾ ਅੱਗੇ']"
      ]
     },
     "execution_count": 472,
     "metadata": {},
     "output_type": "execute_result"
    }
   ],
   "source": [
    "# Removing some exceptional texts wrongly identified as headlines which were not removed before\n",
    "final_hl = list(filter(lambda x: (x != '' and x != '...read more' and x != 'Sign In'), better_hl))\n",
    "\n",
    "final_hl[:10]"
   ]
  },
  {
   "cell_type": "code",
   "execution_count": 480,
   "metadata": {},
   "outputs": [
    {
     "data": {
      "text/html": [
       "<div>\n",
       "<style scoped>\n",
       "    .dataframe tbody tr th:only-of-type {\n",
       "        vertical-align: middle;\n",
       "    }\n",
       "\n",
       "    .dataframe tbody tr th {\n",
       "        vertical-align: top;\n",
       "    }\n",
       "\n",
       "    .dataframe thead th {\n",
       "        text-align: right;\n",
       "    }\n",
       "</style>\n",
       "<table border=\"1\" class=\"dataframe\">\n",
       "  <thead>\n",
       "    <tr style=\"text-align: right;\">\n",
       "      <th></th>\n",
       "      <th>Headlines</th>\n",
       "    </tr>\n",
       "  </thead>\n",
       "  <tbody>\n",
       "    <tr>\n",
       "      <th>0</th>\n",
       "      <td>Delhi’s air quality recorded in ‘very poor’ ca...</td>\n",
       "    </tr>\n",
       "    <tr>\n",
       "      <th>1</th>\n",
       "      <td>‘In a sense, I am on the ticket,’ Donald Trump...</td>\n",
       "    </tr>\n",
       "    <tr>\n",
       "      <th>2</th>\n",
       "      <td>Thousands protest in Aizawl seeking Mizoram CE...</td>\n",
       "    </tr>\n",
       "    <tr>\n",
       "      <th>3</th>\n",
       "      <td>How science can help us prepare for disasters</td>\n",
       "    </tr>\n",
       "    <tr>\n",
       "      <th>4</th>\n",
       "      <td>Meet the Indian women who look to win maiden I...</td>\n",
       "    </tr>\n",
       "    <tr>\n",
       "      <th>5</th>\n",
       "      <td>B.Tech student found dead in Delhi, police sus...</td>\n",
       "    </tr>\n",
       "    <tr>\n",
       "      <th>6</th>\n",
       "      <td>Colour happy: Browns for all seasons and occas...</td>\n",
       "    </tr>\n",
       "    <tr>\n",
       "      <th>7</th>\n",
       "      <td>Diwali 2018: Quinoa chips, massage oil and mor...</td>\n",
       "    </tr>\n",
       "    <tr>\n",
       "      <th>8</th>\n",
       "      <td>‘Real Diwali when misrule of NDA ends’: Chandr...</td>\n",
       "    </tr>\n",
       "    <tr>\n",
       "      <th>9</th>\n",
       "      <td>ਕਰਨਾਟਕ ਜਿ਼ਮਨੀ ਚੋਣਾਂ: 4 ਸੀਟਾਂ `ਤੇ ਕਾਂਗਰਸ-ਜਨਤਾ ਦ...</td>\n",
       "    </tr>\n",
       "  </tbody>\n",
       "</table>\n",
       "</div>"
      ],
      "text/plain": [
       "                                           Headlines\n",
       "0  Delhi’s air quality recorded in ‘very poor’ ca...\n",
       "1  ‘In a sense, I am on the ticket,’ Donald Trump...\n",
       "2  Thousands protest in Aizawl seeking Mizoram CE...\n",
       "3      How science can help us prepare for disasters\n",
       "4  Meet the Indian women who look to win maiden I...\n",
       "5  B.Tech student found dead in Delhi, police sus...\n",
       "6  Colour happy: Browns for all seasons and occas...\n",
       "7  Diwali 2018: Quinoa chips, massage oil and mor...\n",
       "8  ‘Real Diwali when misrule of NDA ends’: Chandr...\n",
       "9  ਕਰਨਾਟਕ ਜਿ਼ਮਨੀ ਚੋਣਾਂ: 4 ਸੀਟਾਂ `ਤੇ ਕਾਂਗਰਸ-ਜਨਤਾ ਦ..."
      ]
     },
     "execution_count": 480,
     "metadata": {},
     "output_type": "execute_result"
    }
   ],
   "source": [
    "import pandas as pd\n",
    "\n",
    "df = pd.DataFrame()\n",
    "\n",
    "df['Headlines'] = final_hl\n",
    "\n",
    "df.to_csv('hindustan_times_headlines.csv', index=False)\n",
    "\n",
    "headlines_csv = pd.read_csv('hindustan_times_headlines.csv')\n",
    "\n",
    "headlines_csv.head(10)"
   ]
  },
  {
   "cell_type": "code",
   "execution_count": 456,
   "metadata": {},
   "outputs": [
    {
     "data": {
      "text/plain": [
       "True"
      ]
     },
     "execution_count": 456,
     "metadata": {},
     "output_type": "execute_result"
    }
   ],
   "source": [
    "# Check whether the number of headlines extracted and the number of headlines written in csv file are equal or not, result will\n",
    "# be True if numbers match\n",
    "print(headlines_csv.shape[0] == len(final_hl))"
   ]
  },
  {
   "cell_type": "code",
   "execution_count": 454,
   "metadata": {},
   "outputs": [
    {
     "data": {
      "text/plain": [
       "set()"
      ]
     },
     "execution_count": 454,
     "metadata": {},
     "output_type": "execute_result"
    }
   ],
   "source": [
    "# Check whether the headlines extracted and headlines written in csv are same or not, headline(s) extracted but not in csv \n",
    "# (and vice-versa) will be displayed below, result will be empty set 'set()' if all the headlines are same\n",
    "set(headlines_csv['Headlines']).symmetric_difference(set(final))"
   ]
  },
  {
   "cell_type": "code",
   "execution_count": null,
   "metadata": {},
   "outputs": [],
   "source": []
  }
 ],
 "metadata": {
  "kernelspec": {
   "display_name": "Python 3",
   "language": "python",
   "name": "python3"
  },
  "language_info": {
   "codemirror_mode": {
    "name": "ipython",
    "version": 3
   },
   "file_extension": ".py",
   "mimetype": "text/x-python",
   "name": "python",
   "nbconvert_exporter": "python",
   "pygments_lexer": "ipython3",
   "version": "3.6.3"
  }
 },
 "nbformat": 4,
 "nbformat_minor": 2
}
