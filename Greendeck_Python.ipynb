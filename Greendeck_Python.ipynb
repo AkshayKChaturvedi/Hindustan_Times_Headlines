{
 "cells": [
  {
   "cell_type": "markdown",
   "metadata": {},
   "source": [
    "Some instructions and general comments : \n",
    "\n",
    "* Please install selenium, beautifulsoup packages and also Chrome browser.\n",
    "\n",
    "\n",
    "* Download chromedriver from http://chromedriver.chromium.org/downloads, unzip it and put the path of its executable below in the second line of the first cell \"browser = webdriver.Chrome(path)\".\n",
    "\n",
    "\n",
    "* Executing the first cell will open a Chrome browser with hindustan times homepage, do not close it until the first cell has been executed.\n",
    "\n",
    "\n",
    "* When you open the csv file, you might encounter goofy characters like â€˜, to open the csv file in proper format please go through the instructions at http://64.132.240.34/kbbase/index.php?View=entry&EntryID=320, problem is only when viewing csv in excel, when reading(writting) from(to) csv, there is no issue as can be seen below. \n",
    "\n",
    "\n",
    "* One might notice that I have not written a general function through which a URL can be passed and headlines from a news website can be extracted, the reason is that different news websites have different html structure (not much is common between these webpages) thereby making it rather difficult to write a general function for different news websites. I looked at webpages of Hindustan Times, Times of India, BBC and CNN, html structure was very different for all of them. Feel free to correct me if I am wrong."
   ]
  },
  {
   "cell_type": "code",
   "execution_count": 1,
   "metadata": {},
   "outputs": [],
   "source": [
    "from selenium import webdriver\n",
    "\n",
    "# Don't forget to put the correct path of chromedriver executable here\n",
    "browser = webdriver.Chrome('C:/Users/Dell/Downloads/chromedriver.exe')\n",
    "\n",
    "browser.get(\"https://www.hindustantimes.com/\")\n",
    "\n",
    "innerHTML = browser.execute_script(\"return document.body.innerHTML\")"
   ]
  },
  {
   "cell_type": "code",
   "execution_count": 2,
   "metadata": {},
   "outputs": [],
   "source": [
    "from bs4 import BeautifulSoup\n",
    "import re\n",
    "\n",
    "soup_ini = BeautifulSoup(innerHTML)\n",
    "\n",
    "# Removing texts like 'Terms of Use', 'Disclaimer' etc. present at the bottom of the page\n",
    "soup_ini_str = re.sub('<li>.*?</li>', '', str(soup_ini))\n",
    "\n",
    "soup = BeautifulSoup(soup_ini_str)\n",
    "\n",
    "# Extract all the html <a> tags associated with hyperlinks\n",
    "titles = soup.find_all('a',  attrs={'href': re.compile(\"^https://\")})\n",
    "\n",
    "# Extract texts from the tags, contains all headlines (includes texts wrongly construed as headlines) \n",
    "headlines = [t.text.strip() for t in titles]"
   ]
  },
  {
   "cell_type": "code",
   "execution_count": 3,
   "metadata": {},
   "outputs": [],
   "source": [
    "titles_2 = soup.find_all('li',  attrs={'class' : 'column-head'})\n",
    "\n",
    "# Extract texts like 'Opinion', 'Cities', 'Sports' etc., these are categories near the bottom of the page\n",
    "headlines_2 = [t2.text.strip() for t2 in titles_2]"
   ]
  },
  {
   "cell_type": "code",
   "execution_count": 4,
   "metadata": {},
   "outputs": [],
   "source": [
    "titles_3 = soup.find_all('div',  attrs={'class' : re.compile(\"^(column|sign)\")})\n",
    "\n",
    "# From top itself page is divided into several categories like 'latest news', 'don't miss', 'must watch' etc., \n",
    "# these texts are extracted here\n",
    "headlines_3 = [t3.text.strip() for t3 in titles_3]"
   ]
  },
  {
   "cell_type": "code",
   "execution_count": 5,
   "metadata": {},
   "outputs": [
    {
     "name": "stdout",
     "output_type": "stream",
     "text": [
      "['', 'Donald Trump moves to limit migrant asylum claims at US-Mexico border', 'Singapore to London: These are the 5 most haunted places in the world', 'Calls to allies, team to execute plan:\\u2009How NDA won Rajya Sabha battle', '#Watch: Rahul Gandhi conducts roadshow in Chhattisgarh', 'India: Today’s news in pictures', 'Smog continues to cloak Delhi, air quality hazardous', 'Arun Jaitley says Mastercard, Visa losing out to UPI, RuPay in India', 'ਬੇਅਦਬੀ ਕਾਂਡ: ਬਠਿੰਡਾ ਦੇ ਪਿੰਡ ਗੁਰੂਸਰ ਤੋਂ 3 ਹੋਰ ਡੇਰਾ ਪ੍ਰੇਮੀ ਗ੍ਰਿਫ਼ਤਾਰ', 'PM Modi should accept demonetisation was wrong, writes Rajdeep Sardesai', 'DMK ready to work with Chandrababu Naidu to dethrone BJP, says Stalin', 'Manu Bhaker-Saurabh Chaudhary shatter junior world record to win mixed gold', 'Tata Steel senior manager allegedly shot dead by former employee in Faridabad', 'Delhi pollution relents slightly, but may be back to ‘severe’ levels today', 'Delhi set for cracker-free Diwali; cops to ensure execution of SC order', 'Manchester derby will not define City’s season: Pep Guardiola', 'Is it impossible to cheat in computer based examinations?', 'At least 17 dead as three car bombs explode in Somalia', 'Traffic restored on Mumbai-Ahmedabad line 13 hours after goods train fire', 'Tesla replaces Elon Musk, names  Robyn Denholm as Chair', 'China steps up drone race with stealth aircraft', 'License issued, crackers for sale in Noida, Ghaziabad despite ‘green’ order', 'Ranbir resumes work on Brahmastra, joins Alia for dance practice. See pic', 'Kohli & Co: Swagger is no substitute for success', 'Twist in the tale:\\u2009The dilemma that Maneka Gandhi faces', 'Acted against deputy Rakesh Asthana for CBI’s integrity: Alok Verma to CVC', 'Kapoor family is selling the iconic RK Studios, Rishi Kapoor confirms', 'Move over Batman, Bajrangi takes on supervillains', 'Why data is the new oil', 'TMC worker killed in WB, fifth political worker to be murdered in 3 weeks', 'India vs West Indies: Team India Report Card - The hits &\\u2009misses at the 2nd T20 in Lucknow', 'From Illahabas to Allahabad to Prayagraj - who cares and why', 'China handpicks 31 high school students to develop AI weapons systems', 'Niharika Singh writes about MeToo in India, mentions Nawazuddin Siddiqui', 'ICC Women’s World T20: Harmanpreet becomes first Indian to score a T20I ton', 'PV Sindhu, Kidambi Srikanth lose in China Open quarters', 'India vs West Indies: Rohit Sharma took the game away from us - Stuart Law', 'Tej Pratap upset with parents over divorce, Rabri not to perform Chhath puja', 'What’s causing Delhi’s air quality swings?', 'How to enable Dark Mode on your Android smartphone', 'Shy and intelligent: IIT professors remember Google CEO Sundar Pichai', 'Why a divided US Congress is good news for India', 'Avengers 4 run-time is currently at 3 hours, longest ever for MCU', 'Infosys is boring again, and that’s a good thing: Chairman Nilekani', 'Chandrababu Naidu to expand cabinet, induct son of ex-MLA killed by Maoists', 'Thugs Of Hindostan fails to impress Twitter, trolled with jokes, memes', 'Thugs of Hindostan gets leaked online after a bumper opening', 'Iconic cartoon characters to keep your kids entertained this weekend!', 'India news in pictures -- a roundup of today’s top news across the country from Bhai Dooj festival celebrations to Prime Minister Narendra Modi addressing a...', 'ਰਾਜਸਥਾਨ : ਸਿਹਤ ਵਿਭਾਗ ਨੇ 49 ਡਾਕਟਰਾਂ ਨੂੰ ਫਰਾਰ ਐਲਾਨਿਆ', 'ਇਤਿਹਾਸਕਾਰ ਡਾ. ਕ੍ਰਿਪਾਲ ਸਿੰਘ ਨੂੰ ਸ਼੍ਰੋਮਣੀ ਕਮੇਟੀ ਦੇ ਪ੍ਰਾਜੈਕਟ `ਚੋਂ ਕੱਢਿਆ', 'Photos | Pubs and parties: A Swiss frog’s life in 19th century vignettes', 'Paintings on discoloured, old artefacts on display in Delhi', 'Unique record awaits India if Rohit Sharma scores 69 in next T20I', 'Singing may reduce stress, improve mood for people with Parkinson’s disease', 'How to make your smartphone’s battery last longer', 'SIT ਵੱਲੋਂ ਅਕਾਲੀ ਆਗੂ ਮਨਤਾਰ ਸਿੰਘ ਬਰਾੜ ਤੇ ਐੱਸਡੀਐੱਮ ਤੋਂ ਪੁੱਛਗਿੱਛ', 'Sri Lanka will hold snap elections on Jan 5, says President Sirisena', 'India vs West Indies: India rest Kuldeep Yadav, Umesh Yadav and Jasprit Bumrah for 3rd T20 in Chennai', 'IIM Calcutta records 100%  placements', 'Prithvi Theatre marks 40 yrs with a retelling of Prithviraj Kapoor’s plays', 'Every Marvel fan will weep at this viral Avengers 4 ending proposed by fan', 'Ind vs WI: ‘IPL\\u2009experience big help for youngsters coming into Indian team’', 'Baazaar movie review: Saif stands tall, but this film’s stock tanks', 'Kohli wants India pacers to skip IPL in a bid to be fresh for World Cup', 'Tovino Thomas rocks the crazy villain look in Maari 2', 'Modi, Rahul trade barbs 3 days before polling in Chhattisgarh’s Bastar', 'CBI goes for Art of Living’s synergy workshop after war in agency', 'Sign In', 'Photos | 100 years since World War One: Life in the trenches', 'Colour happy: Browns for all seasons and occasions', 'With min temperature at 10.5°C, Delhi saw coldest morning on Thursday', 'Mapping the growth of digital learning in India', 'Beginning today,  expect  Mumbai’s air to be ‘very poor’ for next 3 days', '...read more', 'WhatsApp stickers update: How to convert any photo into sticker', 'Thugs of Hindostan records highest Bollywood opening ever of Rs 50.75 cr', 'Will your child be a future ‘consumer’ or ‘maker’?', 'Photos: No escaping Delhi smog a day after Diwali despite SC restrictions', 'ICC Women’s WT20: Harmanpreet, bowlers power India to 34-run win over NZ', 'New Microsoft bug is downgrading Windows 10 Pro licenses to Home edition', 'Anirudh Bhattacharyya', 'Posters, banners of movie ‘Sarkar’ removed amid protests by AIADMK', 'Toxic Diwali in Delhi: Pollution levels peaked up to 26 times above normal', 'Sarkar Film Row: Director AR Murugadoss applies for anticipatory bail', 'Kumaraswamy to give Tipu Jayanti celebrations a miss', 'Women in Japan are tiring of pastel pink and rhinestones', 'When does a slum stop being a slum?', 'Dad said he’d disown me if I was involved in 26/11: Rahul Bhatt', 'Anybody could be Bihar CM in 2020, our alliance with BJP not JDU: Kushwaha', 'No more AIADMK protests over Sarkar as controversial scenes cut: Minister', 'Gauri Khan, AbRam twin in blue and white for a beach party. See pics', 'Halloween review: I’ll haunt you in your sleep, don’t watch it alone', 'Police say Melbourne knife attack ‘act of terror’; IS claims responsibility', 'India plans to export 2 mn tonnes of sugar to China from next year: Govt', 'Xiaomi Mi Notebook Air 13.3-inch, 15.6-inch laptops launched', 'Sarkar review: Vijay returns to solve Tamil Nadu’s problems but can’t', 'Shiv Sena demands name change of Osmanabad and Aurangabad', 'US to take public opinion on move to revoke work permit for H-4 spouse visa', 'Why girls at Deoria’s shelter home dreaded the weekends', 'Delhi teen stabbed to death for refusing to take neighbour Diwali shopping', 'Sarkar box office day 3: Vijay starrer stays strong despite protests', 'PM Modi to attend Maldives President-elect Solih’s swearing-in ceremony']\n"
     ]
    }
   ],
   "source": [
    "titles_4 = soup.find_all('a',  attrs={'class' : re.compile(\"^(cta-link|trc_|item-)\")})\n",
    "\n",
    "# Many articles in categories described above have a sub-category or another category associated with them, these categories are \n",
    "# extracted here, with these categories advertisements like \n",
    "# 'Indians born before 1967 are now eligible to test hearing aidsHearing Aid Trial' are also extracted here\n",
    "headlines_4 = [t4.text.strip() for t4 in titles_4]\n",
    "\n",
    "# combine all the texts wrongly construed as headlines in a single list\n",
    "headlines_to_remove = set(headlines_2 + headlines_3 + headlines_4)\n",
    "\n",
    "# removing texts wrongly construed as headlines from the list of all texts, thereby getting list of mostly correct headlines\n",
    "better_hl = list(set(headlines) - set(headlines_to_remove))\n",
    "\n",
    "print(better_hl)"
   ]
  },
  {
   "cell_type": "code",
   "execution_count": 6,
   "metadata": {},
   "outputs": [
    {
     "data": {
      "text/plain": [
       "['Donald Trump moves to limit migrant asylum claims at US-Mexico border',\n",
       " 'Singapore to London: These are the 5 most haunted places in the world',\n",
       " 'Calls to allies, team to execute plan:\\u2009How NDA won Rajya Sabha battle',\n",
       " '#Watch: Rahul Gandhi conducts roadshow in Chhattisgarh',\n",
       " 'India: Today’s news in pictures',\n",
       " 'Smog continues to cloak Delhi, air quality hazardous',\n",
       " 'Arun Jaitley says Mastercard, Visa losing out to UPI, RuPay in India',\n",
       " 'ਬੇਅਦਬੀ ਕਾਂਡ: ਬਠਿੰਡਾ ਦੇ ਪਿੰਡ ਗੁਰੂਸਰ ਤੋਂ 3 ਹੋਰ ਡੇਰਾ ਪ੍ਰੇਮੀ ਗ੍ਰਿਫ਼ਤਾਰ',\n",
       " 'PM Modi should accept demonetisation was wrong, writes Rajdeep Sardesai',\n",
       " 'DMK ready to work with Chandrababu Naidu to dethrone BJP, says Stalin']"
      ]
     },
     "execution_count": 6,
     "metadata": {},
     "output_type": "execute_result"
    }
   ],
   "source": [
    "# Removing some exceptional texts wrongly identified as headlines which were not removed before\n",
    "final_hl = list(filter(lambda x: (x != '' and x != '...read more' and x != 'Sign In'), better_hl))\n",
    "\n",
    "final_hl[:10]"
   ]
  },
  {
   "cell_type": "code",
   "execution_count": 7,
   "metadata": {},
   "outputs": [
    {
     "data": {
      "text/html": [
       "<div>\n",
       "<style scoped>\n",
       "    .dataframe tbody tr th:only-of-type {\n",
       "        vertical-align: middle;\n",
       "    }\n",
       "\n",
       "    .dataframe tbody tr th {\n",
       "        vertical-align: top;\n",
       "    }\n",
       "\n",
       "    .dataframe thead th {\n",
       "        text-align: right;\n",
       "    }\n",
       "</style>\n",
       "<table border=\"1\" class=\"dataframe\">\n",
       "  <thead>\n",
       "    <tr style=\"text-align: right;\">\n",
       "      <th></th>\n",
       "      <th>Headlines</th>\n",
       "    </tr>\n",
       "  </thead>\n",
       "  <tbody>\n",
       "    <tr>\n",
       "      <th>0</th>\n",
       "      <td>Donald Trump moves to limit migrant asylum cla...</td>\n",
       "    </tr>\n",
       "    <tr>\n",
       "      <th>1</th>\n",
       "      <td>Singapore to London: These are the 5 most haun...</td>\n",
       "    </tr>\n",
       "    <tr>\n",
       "      <th>2</th>\n",
       "      <td>Calls to allies, team to execute plan: How NDA...</td>\n",
       "    </tr>\n",
       "    <tr>\n",
       "      <th>3</th>\n",
       "      <td>#Watch: Rahul Gandhi conducts roadshow in Chha...</td>\n",
       "    </tr>\n",
       "    <tr>\n",
       "      <th>4</th>\n",
       "      <td>India: Today’s news in pictures</td>\n",
       "    </tr>\n",
       "    <tr>\n",
       "      <th>5</th>\n",
       "      <td>Smog continues to cloak Delhi, air quality haz...</td>\n",
       "    </tr>\n",
       "    <tr>\n",
       "      <th>6</th>\n",
       "      <td>Arun Jaitley says Mastercard, Visa losing out ...</td>\n",
       "    </tr>\n",
       "    <tr>\n",
       "      <th>7</th>\n",
       "      <td>ਬੇਅਦਬੀ ਕਾਂਡ: ਬਠਿੰਡਾ ਦੇ ਪਿੰਡ ਗੁਰੂਸਰ ਤੋਂ 3 ਹੋਰ ਡ...</td>\n",
       "    </tr>\n",
       "    <tr>\n",
       "      <th>8</th>\n",
       "      <td>PM Modi should accept demonetisation was wrong...</td>\n",
       "    </tr>\n",
       "    <tr>\n",
       "      <th>9</th>\n",
       "      <td>DMK ready to work with Chandrababu Naidu to de...</td>\n",
       "    </tr>\n",
       "  </tbody>\n",
       "</table>\n",
       "</div>"
      ],
      "text/plain": [
       "                                           Headlines\n",
       "0  Donald Trump moves to limit migrant asylum cla...\n",
       "1  Singapore to London: These are the 5 most haun...\n",
       "2  Calls to allies, team to execute plan: How NDA...\n",
       "3  #Watch: Rahul Gandhi conducts roadshow in Chha...\n",
       "4                    India: Today’s news in pictures\n",
       "5  Smog continues to cloak Delhi, air quality haz...\n",
       "6  Arun Jaitley says Mastercard, Visa losing out ...\n",
       "7  ਬੇਅਦਬੀ ਕਾਂਡ: ਬਠਿੰਡਾ ਦੇ ਪਿੰਡ ਗੁਰੂਸਰ ਤੋਂ 3 ਹੋਰ ਡ...\n",
       "8  PM Modi should accept demonetisation was wrong...\n",
       "9  DMK ready to work with Chandrababu Naidu to de..."
      ]
     },
     "execution_count": 7,
     "metadata": {},
     "output_type": "execute_result"
    }
   ],
   "source": [
    "import pandas as pd\n",
    "\n",
    "df = pd.DataFrame()\n",
    "\n",
    "df['Headlines'] = final_hl\n",
    "\n",
    "df.to_csv('hindustan_times_headlines.csv', index=False)\n",
    "\n",
    "headlines_csv = pd.read_csv('hindustan_times_headlines.csv')\n",
    "\n",
    "headlines_csv.head(10)"
   ]
  },
  {
   "cell_type": "code",
   "execution_count": 8,
   "metadata": {},
   "outputs": [
    {
     "name": "stdout",
     "output_type": "stream",
     "text": [
      "True\n"
     ]
    }
   ],
   "source": [
    "# Check whether the number of headlines extracted and the number of headlines written in csv file are equal or not, result will\n",
    "# be True if numbers match\n",
    "print(headlines_csv.shape[0] == len(final_hl))"
   ]
  },
  {
   "cell_type": "code",
   "execution_count": 10,
   "metadata": {},
   "outputs": [
    {
     "data": {
      "text/plain": [
       "set()"
      ]
     },
     "execution_count": 10,
     "metadata": {},
     "output_type": "execute_result"
    }
   ],
   "source": [
    "# Check whether the headlines extracted and headlines written in csv are same or not, headline(s) extracted but not in csv \n",
    "# (and vice-versa) will be displayed below, result will be empty set 'set()' if all the headlines are same\n",
    "set(headlines_csv['Headlines']).symmetric_difference(set(final_hl))"
   ]
  },
  {
   "cell_type": "code",
   "execution_count": null,
   "metadata": {},
   "outputs": [],
   "source": []
  }
 ],
 "metadata": {
  "kernelspec": {
   "display_name": "Python 3",
   "language": "python",
   "name": "python3"
  },
  "language_info": {
   "codemirror_mode": {
    "name": "ipython",
    "version": 3
   },
   "file_extension": ".py",
   "mimetype": "text/x-python",
   "name": "python",
   "nbconvert_exporter": "python",
   "pygments_lexer": "ipython3",
   "version": "3.6.3"
  }
 },
 "nbformat": 4,
 "nbformat_minor": 2
}
